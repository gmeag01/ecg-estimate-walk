{
 "cells": [
  {
   "cell_type": "code",
   "execution_count": null,
   "metadata": {},
   "outputs": [],
   "source": [
    "from DataFiltering import DataFiltering\n",
    "from DataLoader import DataLoader, DataConcate\n",
    "from ecgdetectors import Detectors\n",
    "\n",
    "import matplotlib.pyplot as plt\n",
    "import numpy as np\n",
    "import pickle\n",
    "import gzip\n",
    "import os\n",
    "\n",
    "DATA_EXPORT_PATH = \"./data/exported\"\n",
    "\n",
    "ecg_data_filtering = DataFiltering(sampling_rate=250)"
   ]
  },
  {
   "attachments": {},
   "cell_type": "markdown",
   "metadata": {},
   "source": [
    "# Data Concating"
   ]
  },
  {
   "cell_type": "code",
   "execution_count": null,
   "metadata": {},
   "outputs": [],
   "source": [
    "dataconcater = DataConcate()\n",
    "dataloader = DataLoader()\n",
    "\n",
    "data_list = os.listdir(\"./data/walking\")\n",
    "walking_data_list = [\"./data/walking\" + \"/\" + data for data in data_list]\n",
    "\n",
    "data_list = os.listdir(\"./data/running\")\n",
    "running_data_list = [\"./data/running\" + \"/\" + data for data in data_list]\n",
    "\n",
    "data_list = os.listdir(\"./data/sitting\")\n",
    "sitting_data_list = [\"./data/sitting\" + \"/\" + data for data in data_list]"
   ]
  },
  {
   "attachments": {},
   "cell_type": "markdown",
   "metadata": {},
   "source": [
    "## Walking data concating"
   ]
  },
  {
   "cell_type": "code",
   "execution_count": null,
   "metadata": {},
   "outputs": [],
   "source": [
    "walking_ecg_concate, walking_acc_concate = np.zeros((1)), np.zeros((1))\n",
    "for file_path in walking_data_list:\n",
    "    ecg, rsp, acc_x, acc_y, acc_z, heart_rate = dataloader.dataload(file_path)\n",
    "    acc = np.sqrt(acc_x ** 2 + acc_y ** 2 + acc_z ** 2)\n",
    "\n",
    "    walking_ecg_concate = np.concatenate((walking_ecg_concate, ecg), axis=0)\n",
    "    walking_acc_concate = np.concatenate((walking_acc_concate, acc), axis=0)\n",
    "\n",
    "walking_ecg_concate, walking_acc_concate = np.array(walking_ecg_concate[1:]), np.array(walking_acc_concate[1:])\n",
    "\n",
    "print(np.shape(walking_ecg_concate))\n",
    "print(np.shape(walking_acc_concate))"
   ]
  },
  {
   "cell_type": "code",
   "execution_count": null,
   "metadata": {},
   "outputs": [],
   "source": [
    "walking_ecg_filtered = ecg_data_filtering.lowpass_filter(walking_ecg_concate, order=5)\n",
    "walking_ecg_filtered = ecg_data_filtering.bandstop_filter(walking_ecg_filtered, order=5)\n",
    "\n",
    "plt.figure(figsize=(20, 10))\n",
    "plt.plot(walking_ecg_filtered)\n",
    "plt.show()"
   ]
  },
  {
   "cell_type": "code",
   "execution_count": null,
   "metadata": {},
   "outputs": [],
   "source": [
    "plt.figure(figsize=(20, 10))\n",
    "plt.plot(walking_acc_concate)\n",
    "plt.show()"
   ]
  },
  {
   "cell_type": "code",
   "execution_count": null,
   "metadata": {},
   "outputs": [],
   "source": [
    "one_minute_walking_ecg = dataloader.export_ecg_1min(walking_ecg_filtered ** 2)\n",
    "one_minute_walking_acc = dataloader.export_acc_1min(walking_acc_concate)\n",
    "\n",
    "for idx in range(len(one_minute_walking_ecg)):\n",
    "    print(f\"{idx}th 1 minute walking ecg data shape:\", end='')\n",
    "    print(np.shape(one_minute_walking_ecg[idx]))\n",
    "\n",
    "for idx in range(len(one_minute_walking_acc)):\n",
    "    print(f\"{idx}th 1 minute walking acc data shape:\", end='')\n",
    "    print(np.shape(one_minute_walking_acc[idx]))"
   ]
  },
  {
   "cell_type": "code",
   "execution_count": null,
   "metadata": {},
   "outputs": [],
   "source": [
    "# R-peak detection\n",
    "plt.figure(figsize=(20, 10))\n",
    "plt.plot(one_minute_walking_ecg[0])\n",
    "plt.show()\n",
    "\n",
    "# Accelometer data visualization\n",
    "plt.figure(figsize=(20, 10))\n",
    "plt.plot(one_minute_walking_acc[0])\n",
    "plt.show()\n"
   ]
  },
  {
   "cell_type": "code",
   "execution_count": null,
   "metadata": {},
   "outputs": [],
   "source": [
    "# Walking ECG\n",
    "with gzip.open(DATA_EXPORT_PATH + \"/walking_ecg.pkl\", \"wb\") as f:\n",
    "    pickle.dump(one_minute_walking_ecg, f)\n",
    "\n",
    "# Walking ACC\n",
    "with gzip.open(DATA_EXPORT_PATH + \"/walking_acc.pkl\", \"wb\") as f:\n",
    "    pickle.dump(one_minute_walking_acc, f)"
   ]
  },
  {
   "attachments": {},
   "cell_type": "markdown",
   "metadata": {},
   "source": [
    "## Running data concating"
   ]
  },
  {
   "cell_type": "code",
   "execution_count": null,
   "metadata": {},
   "outputs": [],
   "source": [
    "running_ecg_concate, running_acc_concate = np.zeros((1)), np.zeros((1))\n",
    "for file_path in running_data_list:\n",
    "    ecg, rsp, acc_x, acc_y, acc_z, heart_rate = dataloader.dataload(file_path)\n",
    "    acc = np.sqrt(acc_x ** 2 + acc_y ** 2 + acc_z ** 2)\n",
    "\n",
    "    running_ecg_concate = np.concatenate((running_ecg_concate, ecg), axis=0)\n",
    "    running_acc_concate = np.concatenate((running_acc_concate, acc), axis=0)\n",
    "\n",
    "running_ecg_concate, running_acc_concate = np.array(running_ecg_concate[1:]), np.array(running_acc_concate[1:])\n",
    "\n",
    "print(np.shape(running_ecg_concate))\n",
    "print(np.shape(running_acc_concate))"
   ]
  },
  {
   "cell_type": "code",
   "execution_count": null,
   "metadata": {},
   "outputs": [],
   "source": [
    "running_ecg_filtered = ecg_data_filtering.lowpass_filter(running_ecg_concate, order=5)\n",
    "running_ecg_filtered = ecg_data_filtering.bandstop_filter(running_ecg_filtered, order=5)\n",
    "\n",
    "plt.figure(figsize=(20, 10))\n",
    "plt.plot(running_ecg_filtered)\n",
    "plt.show()"
   ]
  },
  {
   "cell_type": "code",
   "execution_count": null,
   "metadata": {},
   "outputs": [],
   "source": [
    "plt.figure(figsize=(20, 10))\n",
    "plt.plot(running_acc_concate)\n",
    "plt.show()"
   ]
  },
  {
   "cell_type": "code",
   "execution_count": null,
   "metadata": {},
   "outputs": [],
   "source": [
    "one_minute_running_ecg = dataloader.export_ecg_1min(running_ecg_filtered)\n",
    "one_minute_running_acc = dataloader.export_acc_1min(running_acc_concate)\n",
    "\n",
    "for idx in range(len(one_minute_running_ecg)):\n",
    "    print(f\"{idx}th ECG data shape : \", end='')\n",
    "    print(np.shape(one_minute_running_ecg[idx]))\n",
    "\n",
    "for idx in range(len(one_minute_running_acc)):\n",
    "    print(f\"{idx}th ACC data shape : \", end='')\n",
    "    print(np.shape(one_minute_running_acc[idx]))"
   ]
  },
  {
   "cell_type": "code",
   "execution_count": null,
   "metadata": {},
   "outputs": [],
   "source": [
    "# R-peak detection\n",
    "detectors = Detectors(250)\n",
    "r_peaks = detectors.pan_tompkins_detector(one_minute_running_ecg[0])\n",
    "\n",
    "plt.figure(figsize=(20, 10))\n",
    "plt.plot(one_minute_running_ecg[0])\n",
    "plt.show()\n",
    "\n",
    "# Accelometer data visualization\n",
    "plt.figure(figsize=(20, 10))\n",
    "plt.plot(one_minute_running_acc[0])\n",
    "plt.show()"
   ]
  },
  {
   "cell_type": "code",
   "execution_count": null,
   "metadata": {},
   "outputs": [],
   "source": [
    "# Running ECG\n",
    "with gzip.open(DATA_EXPORT_PATH + \"/running_ecg.pkl\", \"wb\") as f:\n",
    "    pickle.dump(one_minute_running_ecg, f)\n",
    "\n",
    "# Running ACC\n",
    "with gzip.open(DATA_EXPORT_PATH + \"/running_acc.pkl\", \"wb\") as f:\n",
    "    pickle.dump(one_minute_running_acc, f)"
   ]
  },
  {
   "attachments": {},
   "cell_type": "markdown",
   "metadata": {},
   "source": [
    "## Sitting data concating"
   ]
  },
  {
   "cell_type": "code",
   "execution_count": null,
   "metadata": {},
   "outputs": [],
   "source": [
    "sitting_ecg_concate, sitting_acc_concate = np.zeros((1)), np.zeros((1))\n",
    "for file_path in sitting_data_list:\n",
    "    ecg, rsp, acc_x, acc_y, acc_z, heart_rate = dataloader.dataload(file_path)\n",
    "    acc = np.sqrt(acc_x ** 2 + acc_y ** 2 + acc_z ** 2)\n",
    "\n",
    "    sitting_ecg_concate = np.concatenate((sitting_ecg_concate, ecg), axis=0)\n",
    "    sitting_acc_concate = np.concatenate((sitting_acc_concate, acc), axis=0)\n",
    "\n",
    "sitting_ecg_concate, sitting_acc_concate = np.array(sitting_ecg_concate[1:]), np.array(sitting_acc_concate[1:])\n",
    "\n",
    "print(np.shape(sitting_ecg_concate))\n",
    "print(np.shape(sitting_acc_concate))"
   ]
  },
  {
   "cell_type": "code",
   "execution_count": null,
   "metadata": {},
   "outputs": [],
   "source": [
    "sitting_ecg_filtered = ecg_data_filtering.lowpass_filter(sitting_ecg_concate, order=5)\n",
    "sitting_ecg_filtered = ecg_data_filtering.bandstop_filter(sitting_ecg_filtered, order=5)\n",
    "\n",
    "plt.figure(figsize=(20, 10))\n",
    "plt.plot(sitting_ecg_filtered)\n",
    "plt.show()"
   ]
  },
  {
   "cell_type": "code",
   "execution_count": null,
   "metadata": {},
   "outputs": [],
   "source": [
    "plt.figure(figsize=(20, 10))\n",
    "plt.plot(sitting_acc_concate)\n",
    "plt.show()"
   ]
  },
  {
   "cell_type": "code",
   "execution_count": null,
   "metadata": {},
   "outputs": [],
   "source": [
    "sitting_ecg_one_minute = dataloader.export_ecg_1min(sitting_ecg_filtered)\n",
    "sitting_acc_one_minute = dataloader.export_acc_1min(sitting_acc_concate)\n",
    "\n",
    "for idx in range(len(sitting_ecg_one_minute)):\n",
    "    print(f\"{idx}th ECG data shape : \", end='')\n",
    "    print(np.shape(sitting_ecg_one_minute[idx]))\n",
    "\n",
    "for idx in range(len(sitting_acc_one_minute)):\n",
    "    print(f\"{idx}th ACC data shape : \", end='')\n",
    "    print(np.shape(sitting_acc_one_minute[idx]))\n"
   ]
  },
  {
   "cell_type": "code",
   "execution_count": null,
   "metadata": {},
   "outputs": [],
   "source": [
    "# Sitting ECG\n",
    "with gzip.open(DATA_EXPORT_PATH + \"/sitting_ecg.pkl\", \"wb\") as f:\n",
    "    pickle.dump(sitting_ecg_one_minute, f)\n",
    "\n",
    "# Sitting ACC\n",
    "with gzip.open(DATA_EXPORT_PATH + \"/sitting_acc.pkl\", \"wb\") as f:\n",
    "    pickle.dump(sitting_acc_one_minute, f)"
   ]
  },
  {
   "cell_type": "code",
   "execution_count": null,
   "metadata": {},
   "outputs": [],
   "source": []
  }
 ],
 "metadata": {
  "kernelspec": {
   "display_name": "base",
   "language": "python",
   "name": "python3"
  },
  "language_info": {
   "codemirror_mode": {
    "name": "ipython",
    "version": 3
   },
   "file_extension": ".py",
   "mimetype": "text/x-python",
   "name": "python",
   "nbconvert_exporter": "python",
   "pygments_lexer": "ipython3",
   "version": "3.10.9"
  },
  "orig_nbformat": 4
 },
 "nbformat": 4,
 "nbformat_minor": 2
}
